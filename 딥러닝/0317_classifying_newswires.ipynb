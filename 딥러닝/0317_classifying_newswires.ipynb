{
 "cells": [
  {
   "cell_type": "markdown",
   "metadata": {},
   "source": [
    "로이터 데이터셋 로드하기"
   ]
  },
  {
   "cell_type": "code",
   "execution_count": 1,
   "metadata": {
    "scrolled": true
   },
   "outputs": [
    {
     "name": "stderr",
     "output_type": "stream",
     "text": [
      "Using TensorFlow backend.\n"
     ]
    }
   ],
   "source": [
    "from keras.datasets import reuters\n",
    "\n",
    "(train_data, train_labels), (test_data, test_labels) = reuters.load_data(num_words=10000)"
   ]
  },
  {
   "cell_type": "code",
   "execution_count": 2,
   "metadata": {},
   "outputs": [
    {
     "data": {
      "text/plain": [
       "8982"
      ]
     },
     "execution_count": 2,
     "metadata": {},
     "output_type": "execute_result"
    }
   ],
   "source": [
    "len(train_data)"
   ]
  },
  {
   "cell_type": "code",
   "execution_count": 3,
   "metadata": {},
   "outputs": [
    {
     "data": {
      "text/plain": [
       "2246"
      ]
     },
     "execution_count": 3,
     "metadata": {},
     "output_type": "execute_result"
    }
   ],
   "source": [
    "len(test_data)"
   ]
  },
  {
   "cell_type": "markdown",
   "metadata": {},
   "source": [
    "로이터 데이터셋을 텍스트로 디코딩하기"
   ]
  },
  {
   "cell_type": "code",
   "execution_count": 14,
   "metadata": {},
   "outputs": [],
   "source": [
    "word_index = reuters.get_word_index()\n",
    "reverse_word_index = dict([(value,key) for (key, value) in word_index.items()])\n",
    "decoded_newswire = ' '.join([reverse_word_index.get(i-3, '?') for i in train_data[0]])"
   ]
  },
  {
   "cell_type": "code",
   "execution_count": 15,
   "metadata": {},
   "outputs": [
    {
     "data": {
      "text/plain": [
       "'? ? ? said as a result of its december acquisition of space co it expects earnings per share in 1987 of 1 15 to 1 30 dlrs per share up from 70 cts in 1986 the company said pretax net should rise to nine to 10 mln dlrs from six mln dlrs in 1986 and rental operation revenues to 19 to 22 mln dlrs from 12 5 mln dlrs it said cash flow per share this year should be 2 50 to three dlrs reuter 3'"
      ]
     },
     "execution_count": 15,
     "metadata": {},
     "output_type": "execute_result"
    }
   ],
   "source": [
    "decoded_newswire"
   ]
  },
  {
   "cell_type": "code",
   "execution_count": 8,
   "metadata": {},
   "outputs": [
    {
     "data": {
      "text/plain": [
       "3"
      ]
     },
     "execution_count": 8,
     "metadata": {},
     "output_type": "execute_result"
    }
   ],
   "source": [
    "train_labels[10]"
   ]
  },
  {
   "cell_type": "markdown",
   "metadata": {},
   "source": [
    "데이터 인코딩하기"
   ]
  },
  {
   "cell_type": "code",
   "execution_count": 16,
   "metadata": {},
   "outputs": [],
   "source": [
    "import numpy as np\n",
    "\n",
    "def vectorize_sequences(sequences, dimension = 10000):\n",
    "    results = np.zeros((len(sequences), dimension))\n",
    "    for i, sequence in enumerate(sequences):\n",
    "        results[i, sequence]=1.\n",
    "    return results\n",
    "\n",
    "x_train = vectorize_sequences(train_data)\n",
    "x_test = vectorize_sequences(test_data)"
   ]
  },
  {
   "cell_type": "code",
   "execution_count": 17,
   "metadata": {},
   "outputs": [],
   "source": [
    "def to_one_hot(labels, dimension=46):\n",
    "    results = np.zeros((len(labels),dimension))\n",
    "    for i, label in enumerate(labels):\n",
    "        results[i, label] = 1.\n",
    "    return results\n",
    "\n",
    "one_hot_train_labels = to_one_hot(train_labels)\n",
    "one_hot_test_labels= to_one_hot(test_labels)"
   ]
  },
  {
   "cell_type": "markdown",
   "metadata": {},
   "source": [
    "모델 정의하기"
   ]
  },
  {
   "cell_type": "code",
   "execution_count": 18,
   "metadata": {},
   "outputs": [],
   "source": [
    "from tensorflow.keras import models\n",
    "from tensorflow.keras import layers\n",
    "\n",
    "model = models.Sequential()\n",
    "model.add(layers.Dense(64, activation='relu', input_shape=(10000,)))\n",
    "model.add(layers.Dense(64, activation='relu'))\n",
    "model.add(layers.Dense(46, activation='softmax'))"
   ]
  },
  {
   "cell_type": "markdown",
   "metadata": {},
   "source": [
    "모델 컴파일하기"
   ]
  },
  {
   "cell_type": "code",
   "execution_count": 19,
   "metadata": {},
   "outputs": [],
   "source": [
    "model.compile(optimizer='rmsprop',\n",
    "              loss='categorical_crossentropy', metrics=['accuracy'])"
   ]
  },
  {
   "cell_type": "markdown",
   "metadata": {},
   "source": [
    "검증 세트 준비하기"
   ]
  },
  {
   "cell_type": "code",
   "execution_count": 20,
   "metadata": {},
   "outputs": [],
   "source": [
    "x_val=x_train[:1000]\n",
    "partial_x_train = x_train[1000:]\n",
    "\n",
    "y_val = one_hot_train_labels[:1000]\n",
    "partial_y_train = one_hot_train_labels[1000:]"
   ]
  },
  {
   "cell_type": "markdown",
   "metadata": {},
   "source": [
    "모델 훈련하기"
   ]
  },
  {
   "cell_type": "code",
   "execution_count": 21,
   "metadata": {},
   "outputs": [
    {
     "name": "stdout",
     "output_type": "stream",
     "text": [
      "Train on 7982 samples, validate on 1000 samples\n",
      "Epoch 1/20\n",
      "7982/7982 [==============================] - 1s 142us/sample - loss: 2.5945 - accuracy: 0.5362 - val_loss: 1.6985 - val_accuracy: 0.6500\n",
      "Epoch 2/20\n",
      "7982/7982 [==============================] - 1s 86us/sample - loss: 1.3964 - accuracy: 0.7127 - val_loss: 1.2676 - val_accuracy: 0.7280\n",
      "Epoch 3/20\n",
      "7982/7982 [==============================] - 1s 89us/sample - loss: 1.0327 - accuracy: 0.7825 - val_loss: 1.1175 - val_accuracy: 0.7650\n",
      "Epoch 4/20\n",
      "7982/7982 [==============================] - 1s 87us/sample - loss: 0.8127 - accuracy: 0.8335 - val_loss: 1.0057 - val_accuracy: 0.7930\n",
      "Epoch 5/20\n",
      "7982/7982 [==============================] - 1s 88us/sample - loss: 0.6451 - accuracy: 0.8647 - val_loss: 0.9531 - val_accuracy: 0.7970\n",
      "Epoch 6/20\n",
      "7982/7982 [==============================] - 1s 90us/sample - loss: 0.5152 - accuracy: 0.8918 - val_loss: 0.9288 - val_accuracy: 0.8090\n",
      "Epoch 7/20\n",
      "7982/7982 [==============================] - 1s 89us/sample - loss: 0.4184 - accuracy: 0.9116 - val_loss: 0.8786 - val_accuracy: 0.8200\n",
      "Epoch 8/20\n",
      "7982/7982 [==============================] - 1s 90us/sample - loss: 0.3407 - accuracy: 0.9268 - val_loss: 0.9053 - val_accuracy: 0.8060\n",
      "Epoch 9/20\n",
      "7982/7982 [==============================] - 1s 86us/sample - loss: 0.2824 - accuracy: 0.9359 - val_loss: 0.9264 - val_accuracy: 0.8040\n",
      "Epoch 10/20\n",
      "7982/7982 [==============================] - 1s 84us/sample - loss: 0.2387 - accuracy: 0.9434 - val_loss: 0.8905 - val_accuracy: 0.8210\n",
      "Epoch 11/20\n",
      "7982/7982 [==============================] - 1s 85us/sample - loss: 0.1994 - accuracy: 0.9500 - val_loss: 0.9568 - val_accuracy: 0.8020\n",
      "Epoch 12/20\n",
      "7982/7982 [==============================] - 1s 84us/sample - loss: 0.1825 - accuracy: 0.9510 - val_loss: 0.9367 - val_accuracy: 0.8140\n",
      "Epoch 13/20\n",
      "7982/7982 [==============================] - 1s 93us/sample - loss: 0.1638 - accuracy: 0.9534 - val_loss: 0.9442 - val_accuracy: 0.8250\n",
      "Epoch 14/20\n",
      "7982/7982 [==============================] - 1s 88us/sample - loss: 0.1486 - accuracy: 0.9549 - val_loss: 0.9669 - val_accuracy: 0.8030\n",
      "Epoch 15/20\n",
      "7982/7982 [==============================] - 1s 84us/sample - loss: 0.1420 - accuracy: 0.9564 - val_loss: 1.0328 - val_accuracy: 0.8000\n",
      "Epoch 16/20\n",
      "7982/7982 [==============================] - 1s 84us/sample - loss: 0.1340 - accuracy: 0.9554 - val_loss: 1.0016 - val_accuracy: 0.8080\n",
      "Epoch 17/20\n",
      "7982/7982 [==============================] - 1s 88us/sample - loss: 0.1253 - accuracy: 0.9570 - val_loss: 1.0280 - val_accuracy: 0.7980\n",
      "Epoch 18/20\n",
      "7982/7982 [==============================] - 1s 96us/sample - loss: 0.1183 - accuracy: 0.9568 - val_loss: 1.0443 - val_accuracy: 0.8040\n",
      "Epoch 19/20\n",
      "7982/7982 [==============================] - 1s 95us/sample - loss: 0.1110 - accuracy: 0.9567 - val_loss: 1.0577 - val_accuracy: 0.8000\n",
      "Epoch 20/20\n",
      "7982/7982 [==============================] - 1s 81us/sample - loss: 0.1137 - accuracy: 0.9563 - val_loss: 1.0741 - val_accuracy: 0.7980\n"
     ]
    }
   ],
   "source": [
    "history = model.fit(partial_x_train,\n",
    "                    partial_y_train,\n",
    "                    epochs=20,\n",
    "                    batch_size=512,\n",
    "                    validation_data=(x_val,y_val))"
   ]
  },
  {
   "cell_type": "markdown",
   "metadata": {},
   "source": [
    "훈련과 검증 손실 그리기"
   ]
  },
  {
   "cell_type": "code",
   "execution_count": 29,
   "metadata": {
    "scrolled": true
   },
   "outputs": [
    {
     "data": {
      "image/png": "[encoded data removed]",
      "text/plain": [
       "<Figure size 432x288 with 1 Axes>"
      ]
     },
     "metadata": {
      "needs_background": "light"
     },
     "output_type": "display_data"
    }
   ],
   "source": [
    "import matplotlib.pyplot as plt\n",
    "\n",
    "loss = history.history['loss']\n",
    "val_loss = history.history['val_loss']\n",
    "\n",
    "epochs=range(1, len(loss)+1)\n",
    "\n",
    "plt.plot(epochs, loss, 'bo', label = 'Training loss')\n",
    "plt.plot(epochs, val_loss, 'b', label = 'Validation loss')\n",
    "plt.title('Training and validation loss')\n",
    "plt.xlabel('Epochs')\n",
    "plt.ylabel('Loss')\n",
    "plt.legend()\n",
    "\n",
    "plt.show()"
   ]
  },
  {
   "cell_type": "markdown",
   "metadata": {},
   "source": [
    "훈련과 검증 정확도 그리기"
   ]
  },
  {
   "cell_type": "code",
   "execution_count": 35,
   "metadata": {},
   "outputs": [
    {
     "data": {
      "image/png": "[encoded data removed]",
      "text/plain": [
       "<Figure size 432x288 with 1 Axes>"
      ]
     },
     "metadata": {
      "needs_background": "light"
     },
     "output_type": "display_data"
    }
   ],
   "source": [
    "plt.clf()\n",
    "\n",
    "acc=history.history['accuracy']\n",
    "val_acc = history.history['val_accuracy']\n",
    "\n",
    "plt.plot(epochs, acc, 'bo', label = 'Training accuracy')\n",
    "plt.plot(epochs, val_acc, 'b', label = 'Validation accuracy')\n",
    "plt.title('Training and vaildation accuracy')\n",
    "plt.xlabel('Epochs')\n",
    "plt.ylabel('Accuracy')\n",
    "plt.legend()\n",
    "\n",
    "plt.show()"
   ]
  },
  {
   "cell_type": "markdown",
   "metadata": {},
   "source": [
    "모델을 처음부터 다시 훈련하기"
   ]
  },
  {
   "cell_type": "code",
   "execution_count": 37,
   "metadata": {},
   "outputs": [
    {
     "name": "stdout",
     "output_type": "stream",
     "text": [
      "Train on 7982 samples, validate on 1000 samples\n",
      "Epoch 1/9\n",
      "7982/7982 [==============================] - 1s 149us/sample - loss: 2.6335 - accuracy: 0.5103 - val_loss: 1.7172 - val_accuracy: 0.6400\n",
      "Epoch 2/9\n",
      "7982/7982 [==============================] - 1s 95us/sample - loss: 1.3891 - accuracy: 0.7105 - val_loss: 1.2946 - val_accuracy: 0.7040\n",
      "Epoch 3/9\n",
      "7982/7982 [==============================] - 1s 92us/sample - loss: 1.0005 - accuracy: 0.7898 - val_loss: 1.0955 - val_accuracy: 0.7550\n",
      "Epoch 4/9\n",
      "7982/7982 [==============================] - 1s 88us/sample - loss: 0.7742 - accuracy: 0.8399 - val_loss: 0.9998 - val_accuracy: 0.7920\n",
      "Epoch 5/9\n",
      "7982/7982 [==============================] - 1s 85us/sample - loss: 0.6140 - accuracy: 0.8746 - val_loss: 0.9476 - val_accuracy: 0.8000\n",
      "Epoch 6/9\n",
      "7982/7982 [==============================] - 1s 85us/sample - loss: 0.4869 - accuracy: 0.8975 - val_loss: 0.9219 - val_accuracy: 0.8050\n",
      "Epoch 7/9\n",
      "7982/7982 [==============================] - 1s 86us/sample - loss: 0.3863 - accuracy: 0.9206 - val_loss: 0.8852 - val_accuracy: 0.8160\n",
      "Epoch 8/9\n",
      "7982/7982 [==============================] - 1s 88us/sample - loss: 0.3156 - accuracy: 0.9320 - val_loss: 0.9393 - val_accuracy: 0.8010\n",
      "Epoch 9/9\n",
      "7982/7982 [==============================] - 1s 80us/sample - loss: 0.2625 - accuracy: 0.9407 - val_loss: 0.9019 - val_accuracy: 0.8170\n",
      "2246/2246 [==============================] - 0s 97us/sample - loss: 0.9554 - accuracy: 0.7970\n"
     ]
    }
   ],
   "source": [
    "model = models.Sequential()\n",
    "model.add(layers.Dense(64, activation='relu', input_shape=(10000,)))\n",
    "model.add(layers.Dense(64, activation='relu'))\n",
    "model.add(layers.Dense(46, activation='softmax'))\n",
    "\n",
    "model.compile(optimizer='rmsprop',\n",
    "            loss = 'categorical_crossentropy',\n",
    "            metrics=['accuracy'])\n",
    "model.fit(partial_x_train,\n",
    "         partial_y_train,\n",
    "         epochs=9,\n",
    "         batch_size=512,\n",
    "         validation_data=(x_val,y_val))\n",
    "results = model.evaluate(x_test, one_hot_test_labels)"
   ]
  },
  {
   "cell_type": "code",
   "execution_count": 38,
   "metadata": {},
   "outputs": [
    {
     "data": {
      "text/plain": [
       "[0.955364071675315, 0.7969724]"
      ]
     },
     "execution_count": 38,
     "metadata": {},
     "output_type": "execute_result"
    }
   ],
   "source": [
    "results"
   ]
  },
  {
   "cell_type": "markdown",
   "metadata": {},
   "source": [
    "랜덤으로 분류했을 때 정확도"
   ]
  },
  {
   "cell_type": "code",
   "execution_count": 39,
   "metadata": {},
   "outputs": [
    {
     "data": {
      "text/plain": [
       "0.18432769367764915"
      ]
     },
     "execution_count": 39,
     "metadata": {},
     "output_type": "execute_result"
    }
   ],
   "source": [
    "import copy\n",
    "test_labels_copy = copy.copy(test_labels)\n",
    "np.random.shuffle(test_labels_copy)\n",
    "hits_array = np.array(test_labels) ==np.array(test_labels_copy)\n",
    "float(np.sum(hits_array)) / len(test_labels)"
   ]
  },
  {
   "cell_type": "markdown",
   "metadata": {},
   "source": [
    "새로운 데이터에 대해 예측하기"
   ]
  },
  {
   "cell_type": "code",
   "execution_count": 42,
   "metadata": {},
   "outputs": [],
   "source": [
    "predictions = model.predict(x_test)"
   ]
  },
  {
   "cell_type": "code",
   "execution_count": 43,
   "metadata": {},
   "outputs": [
    {
     "data": {
      "text/plain": [
       "(46,)"
      ]
     },
     "execution_count": 43,
     "metadata": {},
     "output_type": "execute_result"
    }
   ],
   "source": [
    "predictions[0].shape"
   ]
  },
  {
   "cell_type": "code",
   "execution_count": 45,
   "metadata": {},
   "outputs": [
    {
     "data": {
      "text/plain": [
       "0.9999997"
      ]
     },
     "execution_count": 45,
     "metadata": {},
     "output_type": "execute_result"
    }
   ],
   "source": [
    "np.sum(predictions[0])"
   ]
  },
  {
   "cell_type": "code",
   "execution_count": 46,
   "metadata": {},
   "outputs": [
    {
     "data": {
      "text/plain": [
       "3"
      ]
     },
     "execution_count": 46,
     "metadata": {},
     "output_type": "execute_result"
    }
   ],
   "source": [
    "np.argmax(predictions[0])"
   ]
  },
  {
   "cell_type": "code",
   "execution_count": 47,
   "metadata": {},
   "outputs": [],
   "source": [
    "y_train = np.array(train_labels)\n",
    "y_test = np.array(test_labels)"
   ]
  },
  {
   "cell_type": "code",
   "execution_count": 49,
   "metadata": {},
   "outputs": [],
   "source": [
    "model.compile(optimizer='rmsprop',\n",
    "            loss = 'sparse_categorical_crossentropy',\n",
    "            metrics = ['acc'])"
   ]
  },
  {
   "cell_type": "markdown",
   "metadata": {},
   "source": [
    "정보 병목이 있는 모델"
   ]
  },
  {
   "cell_type": "code",
   "execution_count": 54,
   "metadata": {},
   "outputs": [],
   "source": [
    "model = models.Sequential()\n",
    "model.add(layers.Dense(64, activation='relu', input_shape=(10000,)))\n",
    "model.add(layers.Dense(4, activation='relu'))\n",
    "model.add(layers.Dense(46, activation='softmax'))\n",
    "\n",
    "model.compile(optimizer='rmsprop',\n",
    "             loss = 'categorical_crossentropy',\n",
    "             metrics=['accuracy'])"
   ]
  },
  {
   "cell_type": "code",
   "execution_count": 55,
   "metadata": {},
   "outputs": [
    {
     "name": "stdout",
     "output_type": "stream",
     "text": [
      "Train on 7982 samples, validate on 1000 samples\n",
      "Epoch 1/20\n",
      "7982/7982 [==============================] - 1s 183us/sample - loss: 2.8963 - accuracy: 0.3961 - val_loss: 2.1755 - val_accuracy: 0.4360\n",
      "Epoch 2/20\n",
      "7982/7982 [==============================] - 1s 132us/sample - loss: 1.8405 - accuracy: 0.4951 - val_loss: 1.6115 - val_accuracy: 0.6100\n",
      "Epoch 3/20\n",
      "7982/7982 [==============================] - 1s 128us/sample - loss: 1.4330 - accuracy: 0.6330 - val_loss: 1.4546 - val_accuracy: 0.6350\n",
      "Epoch 4/20\n",
      "7982/7982 [==============================] - 1s 130us/sample - loss: 1.2724 - accuracy: 0.6555 - val_loss: 1.4040 - val_accuracy: 0.6480\n",
      "Epoch 5/20\n",
      "7982/7982 [==============================] - 1s 147us/sample - loss: 1.1737 - accuracy: 0.6708 - val_loss: 1.3811 - val_accuracy: 0.6610\n",
      "Epoch 6/20\n",
      "7982/7982 [==============================] - 1s 133us/sample - loss: 1.0965 - accuracy: 0.6949 - val_loss: 1.3903 - val_accuracy: 0.6640\n",
      "Epoch 7/20\n",
      "7982/7982 [==============================] - 1s 129us/sample - loss: 1.0323 - accuracy: 0.7129 - val_loss: 1.4036 - val_accuracy: 0.6760\n",
      "Epoch 8/20\n",
      "7982/7982 [==============================] - 1s 134us/sample - loss: 0.9729 - accuracy: 0.7373 - val_loss: 1.4235 - val_accuracy: 0.6850\n",
      "Epoch 9/20\n",
      "7982/7982 [==============================] - 1s 132us/sample - loss: 0.9225 - accuracy: 0.7581 - val_loss: 1.4577 - val_accuracy: 0.6730\n",
      "Epoch 10/20\n",
      "7982/7982 [==============================] - 1s 134us/sample - loss: 0.8764 - accuracy: 0.7704 - val_loss: 1.4842 - val_accuracy: 0.6870\n",
      "Epoch 11/20\n",
      "7982/7982 [==============================] - 1s 145us/sample - loss: 0.8373 - accuracy: 0.7770 - val_loss: 1.5119 - val_accuracy: 0.6880\n",
      "Epoch 12/20\n",
      "7982/7982 [==============================] - 1s 132us/sample - loss: 0.8028 - accuracy: 0.7835 - val_loss: 1.5486 - val_accuracy: 0.6840\n",
      "Epoch 13/20\n",
      "7982/7982 [==============================] - 1s 130us/sample - loss: 0.7703 - accuracy: 0.7897 - val_loss: 1.5872 - val_accuracy: 0.6800\n",
      "Epoch 14/20\n",
      "7982/7982 [==============================] - 1s 135us/sample - loss: 0.7418 - accuracy: 0.7963 - val_loss: 1.6416 - val_accuracy: 0.6760\n",
      "Epoch 15/20\n",
      "7982/7982 [==============================] - 1s 130us/sample - loss: 0.7188 - accuracy: 0.8024 - val_loss: 1.7043 - val_accuracy: 0.6880\n",
      "Epoch 16/20\n",
      "7982/7982 [==============================] - 1s 134us/sample - loss: 0.6964 - accuracy: 0.8079 - val_loss: 1.7624 - val_accuracy: 0.6850\n",
      "Epoch 17/20\n",
      "7982/7982 [==============================] - 1s 144us/sample - loss: 0.6756 - accuracy: 0.8103 - val_loss: 1.8160 - val_accuracy: 0.6860\n",
      "Epoch 18/20\n",
      "7982/7982 [==============================] - 1s 130us/sample - loss: 0.6581 - accuracy: 0.8155 - val_loss: 1.8750 - val_accuracy: 0.6850\n",
      "Epoch 19/20\n",
      "7982/7982 [==============================] - 1s 131us/sample - loss: 0.6445 - accuracy: 0.8166 - val_loss: 1.8883 - val_accuracy: 0.6880\n",
      "Epoch 20/20\n",
      "7982/7982 [==============================] - 1s 130us/sample - loss: 0.6282 - accuracy: 0.8192 - val_loss: 2.0014 - val_accuracy: 0.6880\n"
     ]
    },
    {
     "data": {
      "text/plain": [
       "<tensorflow.python.keras.callbacks.History at 0x15564050630>"
      ]
     },
     "execution_count": 55,
     "metadata": {},
     "output_type": "execute_result"
    }
   ],
   "source": [
    "model.fit(partial_x_train,\n",
    "         partial_y_train,\n",
    "         epochs=20,\n",
    "         batch_size=128,\n",
    "         validation_data=(x_val,y_val))"
   ]
  },
  {
   "cell_type": "code",
   "execution_count": null,
   "metadata": {},
   "outputs": [],
   "source": []
  },
  {
   "cell_type": "code",
   "execution_count": null,
   "metadata": {},
   "outputs": [],
   "source": []
  },
  {
   "cell_type": "code",
   "execution_count": null,
   "metadata": {},
   "outputs": [],
   "source": []
  },
  {
   "cell_type": "code",
   "execution_count": null,
   "metadata": {},
   "outputs": [],
   "source": []
  },
  {
   "cell_type": "code",
   "execution_count": null,
   "metadata": {},
   "outputs": [],
   "source": []
  }
 ],
 "metadata": {
  "kernelspec": {
   "display_name": "Python 3",
   "language": "python",
   "name": "python3"
  },
  "language_info": {
   "codemirror_mode": {
    "name": "ipython",
    "version": 3
   },
   "file_extension": ".py",
   "mimetype": "text/x-python",
   "name": "python",
   "nbconvert_exporter": "python",
   "pygments_lexer": "ipython3",
   "version": "3.6.10"
  }
 },
 "nbformat": 4,
 "nbformat_minor": 4
}
