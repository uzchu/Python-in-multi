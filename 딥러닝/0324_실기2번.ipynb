{
 "cells": [
  {
   "cell_type": "code",
   "execution_count": 1,
   "metadata": {},
   "outputs": [
    {
     "name": "stderr",
     "output_type": "stream",
     "text": [
      "Using TensorFlow backend.\n"
     ]
    },
    {
     "data": {
      "text/plain": [
       "'2.3.1'"
      ]
     },
     "execution_count": 1,
     "metadata": {},
     "output_type": "execute_result"
    }
   ],
   "source": [
    "import keras\n",
    "keras.__version__"
   ]
  },
  {
   "cell_type": "code",
   "execution_count": 2,
   "metadata": {},
   "outputs": [],
   "source": [
    "from keras.datasets import imdb\n",
    "from keras import preprocessing\n",
    "\n",
    "max_features = 10000\n",
    "\n",
    "maxlen = 20\n",
    "\n",
    "(x_train, y_train),(x_test, y_test) = imdb.load_data(num_words=max_features)\n"
   ]
  },
  {
   "cell_type": "code",
   "execution_count": 3,
   "metadata": {},
   "outputs": [
    {
     "name": "stdout",
     "output_type": "stream",
     "text": [
      "Model: \"sequential_1\"\n",
      "_________________________________________________________________\n",
      "Layer (type)                 Output Shape              Param #   \n",
      "=================================================================\n",
      "embedding_1 (Embedding)      (None, 20, 8)             80000     \n",
      "_________________________________________________________________\n",
      "flatten_1 (Flatten)          (None, 160)               0         \n",
      "_________________________________________________________________\n",
      "dense_1 (Dense)              (None, 1)                 161       \n",
      "=================================================================\n",
      "Total params: 80,161\n",
      "Trainable params: 80,161\n",
      "Non-trainable params: 0\n",
      "_________________________________________________________________\n"
     ]
    }
   ],
   "source": [
    "x_train = preprocessing.sequence.pad_sequences(x_train, maxlen=maxlen)\n",
    "x_test = preprocessing.sequence.pad_sequences(x_test, maxlen=maxlen)\n",
    "\n",
    "from keras.models import Sequential\n",
    "from keras.layers import Flatten, Dense, Embedding\n",
    "\n",
    "model = Sequential()\n",
    "\n",
    "model.add(Embedding(10000,8,input_length=maxlen))\n",
    "\n",
    "model.add(Flatten())\n",
    "\n",
    "model.add(Dense(1, activation='sigmoid'))\n",
    "model.compile(optimizer='rmsprop', loss = 'binary_crossentropy',metrics=['acc'])\n",
    "model.summary()\n"
   ]
  },
  {
   "cell_type": "code",
   "execution_count": 4,
   "metadata": {},
   "outputs": [
    {
     "name": "stderr",
     "output_type": "stream",
     "text": [
      "c:\\programdata\\anaconda3\\envs\\deep\\lib\\site-packages\\tensorflow_core\\python\\framework\\indexed_slices.py:433: UserWarning: Converting sparse IndexedSlices to a dense Tensor of unknown shape. This may consume a large amount of memory.\n",
      "  \"Converting sparse IndexedSlices to a dense Tensor of unknown shape. \"\n"
     ]
    },
    {
     "name": "stdout",
     "output_type": "stream",
     "text": [
      "Train on 20000 samples, validate on 5000 samples\n",
      "Epoch 1/10\n",
      "20000/20000 [==============================] - 3s 133us/step - loss: 0.6639 - acc: 0.6352 - val_loss: 0.6090 - val_acc: 0.6998\n",
      "Epoch 2/10\n",
      "20000/20000 [==============================] - 2s 99us/step - loss: 0.5352 - acc: 0.7545 - val_loss: 0.5250 - val_acc: 0.7268\n",
      "Epoch 3/10\n",
      "20000/20000 [==============================] - 2s 100us/step - loss: 0.4595 - acc: 0.7886 - val_loss: 0.5008 - val_acc: 0.7458\n",
      "Epoch 4/10\n",
      "20000/20000 [==============================] - 2s 101us/step - loss: 0.4203 - acc: 0.8112 - val_loss: 0.4960 - val_acc: 0.7510\n",
      "Epoch 5/10\n",
      "20000/20000 [==============================] - 2s 102us/step - loss: 0.3926 - acc: 0.8253 - val_loss: 0.4968 - val_acc: 0.7570\n",
      "Epoch 6/10\n",
      "20000/20000 [==============================] - 2s 100us/step - loss: 0.3696 - acc: 0.8397 - val_loss: 0.4994 - val_acc: 0.7604\n",
      "Epoch 7/10\n",
      "20000/20000 [==============================] - 2s 100us/step - loss: 0.3489 - acc: 0.8507 - val_loss: 0.5048 - val_acc: 0.7564\n",
      "Epoch 8/10\n",
      "20000/20000 [==============================] - 2s 103us/step - loss: 0.3303 - acc: 0.8616 - val_loss: 0.5127 - val_acc: 0.7574\n",
      "Epoch 9/10\n",
      "20000/20000 [==============================] - 2s 100us/step - loss: 0.3129 - acc: 0.8708 - val_loss: 0.5204 - val_acc: 0.7552\n",
      "Epoch 10/10\n",
      "20000/20000 [==============================] - 2s 100us/step - loss: 0.2963 - acc: 0.8787 - val_loss: 0.5283 - val_acc: 0.7544\n"
     ]
    }
   ],
   "source": [
    "history = model.fit(x_train, y_train,\n",
    "                   epochs =10,\n",
    "                   batch_size =32,\n",
    "                   validation_split=0.2)"
   ]
  }
 ],
 "metadata": {
  "kernelspec": {
   "display_name": "Python 3",
   "language": "python",
   "name": "python3"
  },
  "language_info": {
   "codemirror_mode": {
    "name": "ipython",
    "version": 3
   },
   "file_extension": ".py",
   "mimetype": "text/x-python",
   "name": "python",
   "nbconvert_exporter": "python",
   "pygments_lexer": "ipython3",
   "version": "3.7.0"
  }
 },
 "nbformat": 4,
 "nbformat_minor": 4
}
