{
 "cells": [
  {
   "cell_type": "markdown",
   "metadata": {},
   "source": [
    "# imdb데이터셋"
   ]
  },
  {
   "cell_type": "code",
   "execution_count": 1,
   "metadata": {},
   "outputs": [
    {
     "name": "stderr",
     "output_type": "stream",
     "text": [
      "Using TensorFlow backend.\n"
     ]
    }
   ],
   "source": [
    "from keras.datasets import imdb\n",
    "\n",
    "(train_data, train_labels),(test_data, test_labels) = imdb.load_data(num_words=10000)\n",
    "\n",
    "#실행오류남 >> numpy version을 1.16.1로 낮추면 해결가능"
   ]
  },
  {
   "cell_type": "code",
   "execution_count": 3,
   "metadata": {},
   "outputs": [],
   "source": [
    "import numpy as np\n",
    "from keras.datasets import reuters\n",
    "(X_train, y_train),(X_test, y_test) = reuters.load_data(num_words=1000, test_split=0.2)"
   ]
  },
  {
   "cell_type": "code",
   "execution_count": 4,
   "metadata": {},
   "outputs": [
    {
     "data": {
      "text/plain": [
       "1"
      ]
     },
     "execution_count": 4,
     "metadata": {},
     "output_type": "execute_result"
    }
   ],
   "source": [
    "train_labels[0]"
   ]
  },
  {
   "cell_type": "code",
   "execution_count": 5,
   "metadata": {},
   "outputs": [
    {
     "data": {
      "text/plain": [
       "9999"
      ]
     },
     "execution_count": 5,
     "metadata": {},
     "output_type": "execute_result"
    }
   ],
   "source": [
    "max([max(sequence) for sequence in train_data])"
   ]
  },
  {
   "cell_type": "code",
   "execution_count": 6,
   "metadata": {},
   "outputs": [
    {
     "name": "stdout",
     "output_type": "stream",
     "text": [
      "Downloading data from https://s3.amazonaws.com/text-datasets/imdb_word_index.json\n",
      "1646592/1641221 [==============================] - 3s 2us/step\n"
     ]
    }
   ],
   "source": [
    "word_index = imdb.get_word_index()\n",
    "reverse_word_index = dict([value,key] for (key, value) in word_index.items())\n",
    "decoded_review = ' '.join([reverse_word_index.get(i-3, '?') for i in train_data[0]])"
   ]
  },
  {
   "cell_type": "markdown",
   "metadata": {},
   "source": [
    "# 데이터 준비"
   ]
  },
  {
   "cell_type": "code",
   "execution_count": 7,
   "metadata": {},
   "outputs": [],
   "source": [
    "import numpy as np\n",
    "\n",
    "def vectorize_sequences(sequences, dimension=10000):\n",
    "    results = np.zeros((len(sequences),dimension))\n",
    "    for i, sequence in enumerate(sequences):\n",
    "        results[i, sequence] = 1.\n",
    "    return results\n",
    "\n",
    "x_train = vectorize_sequences(train_data)\n",
    "x_test = vectorize_sequences(test_data)"
   ]
  },
  {
   "cell_type": "code",
   "execution_count": 8,
   "metadata": {},
   "outputs": [
    {
     "data": {
      "text/plain": [
       "array([0., 1., 1., ..., 0., 0., 0.])"
      ]
     },
     "execution_count": 8,
     "metadata": {},
     "output_type": "execute_result"
    }
   ],
   "source": [
    "x_train[0]"
   ]
  },
  {
   "cell_type": "code",
   "execution_count": 9,
   "metadata": {},
   "outputs": [],
   "source": [
    "y_train = np.asarray(train_labels).astype('float32')\n",
    "y_test = np.asarray(test_labels).astype('float32')"
   ]
  },
  {
   "cell_type": "markdown",
   "metadata": {},
   "source": [
    "# 신경망 모델 만들기"
   ]
  },
  {
   "cell_type": "code",
   "execution_count": 10,
   "metadata": {},
   "outputs": [],
   "source": [
    "from keras import models\n",
    "from keras import layers\n",
    "\n",
    "model = models.Sequential()\n",
    "model.add(layers.Dense(16,activation = 'relu', input_shape=(10000,)))\n",
    "model.add(layers.Dense(16,activation = 'relu'))\n",
    "model.add(layers.Dense(1, activation = 'sigmoid'))"
   ]
  },
  {
   "cell_type": "code",
   "execution_count": 11,
   "metadata": {},
   "outputs": [],
   "source": [
    "model.compile(optimizer='rmsprop', loss='binary_crossentropy', metrics=['accuracy'])"
   ]
  },
  {
   "cell_type": "code",
   "execution_count": null,
   "metadata": {},
   "outputs": [],
   "source": [
    "#옵티마이저 설정하기\n",
    "# from keras import optimizers\n",
    "\n",
    "# model.compile(optimizer = optimizers.RMSprop(lr=0.001), loss = losses.binary_crossentropy, metrics=[metrics.binary_accuarcy])"
   ]
  },
  {
   "cell_type": "code",
   "execution_count": null,
   "metadata": {},
   "outputs": [],
   "source": [
    "# 손실과 측정을 함수 객체로 지정하기\n",
    "# from keras import losses\n",
    "# from keras import metrics\n",
    "\n",
    "# model.complie(optimizer=optimizers.RMSprop(lr=0.001), loss = losses.binary_crossentropy, metrics=[metrics.binary_accuarcy])"
   ]
  },
  {
   "cell_type": "markdown",
   "metadata": {},
   "source": [
    "# 훈련검증"
   ]
  },
  {
   "cell_type": "code",
   "execution_count": 12,
   "metadata": {},
   "outputs": [],
   "source": [
    "x_val = x_train[:10000]\n",
    "partial_x_train=x_train[10000:]\n",
    "y_val = y_train[:10000]\n",
    "partial_y_train = y_train[10000:]"
   ]
  },
  {
   "cell_type": "code",
   "execution_count": 13,
   "metadata": {},
   "outputs": [
    {
     "name": "stdout",
     "output_type": "stream",
     "text": [
      "Train on 15000 samples, validate on 10000 samples\n",
      "Epoch 1/20\n",
      "15000/15000 [==============================] - 2s 137us/step - loss: 0.5030 - acc: 0.7817 - val_loss: 0.3746 - val_acc: 0.8703\n",
      "Epoch 2/20\n",
      "15000/15000 [==============================] - 2s 101us/step - loss: 0.2901 - acc: 0.9073 - val_loss: 0.2957 - val_acc: 0.8900\n",
      "Epoch 3/20\n",
      "15000/15000 [==============================] - 2s 101us/step - loss: 0.2153 - acc: 0.9289 - val_loss: 0.2756 - val_acc: 0.8908\n",
      "Epoch 4/20\n",
      "15000/15000 [==============================] - 1s 100us/step - loss: 0.1739 - acc: 0.9415 - val_loss: 0.2926 - val_acc: 0.8838\n",
      "Epoch 5/20\n",
      "15000/15000 [==============================] - 2s 101us/step - loss: 0.1394 - acc: 0.9563 - val_loss: 0.2809 - val_acc: 0.8901\n",
      "Epoch 6/20\n",
      "15000/15000 [==============================] - 2s 100us/step - loss: 0.1122 - acc: 0.9669 - val_loss: 0.2997 - val_acc: 0.8852\n",
      "Epoch 7/20\n",
      "15000/15000 [==============================] - 2s 100us/step - loss: 0.0963 - acc: 0.9700 - val_loss: 0.3123 - val_acc: 0.8854\n",
      "Epoch 8/20\n",
      "15000/15000 [==============================] - 1s 100us/step - loss: 0.0752 - acc: 0.9804 - val_loss: 0.3334 - val_acc: 0.8801\n",
      "Epoch 9/20\n",
      "15000/15000 [==============================] - 2s 102us/step - loss: 0.0655 - acc: 0.9824 - val_loss: 0.3551 - val_acc: 0.8827\n",
      "Epoch 10/20\n",
      "15000/15000 [==============================] - 2s 100us/step - loss: 0.0541 - acc: 0.9870 - val_loss: 0.3811 - val_acc: 0.8787\n",
      "Epoch 11/20\n",
      "15000/15000 [==============================] - 2s 101us/step - loss: 0.0413 - acc: 0.9915 - val_loss: 0.4058 - val_acc: 0.8744\n",
      "Epoch 12/20\n",
      "15000/15000 [==============================] - 2s 100us/step - loss: 0.0347 - acc: 0.9927 - val_loss: 0.4364 - val_acc: 0.8755\n",
      "Epoch 13/20\n",
      "15000/15000 [==============================] - 2s 100us/step - loss: 0.0281 - acc: 0.9943 - val_loss: 0.4796 - val_acc: 0.8678\n",
      "Epoch 14/20\n",
      "15000/15000 [==============================] - 2s 100us/step - loss: 0.0217 - acc: 0.9960 - val_loss: 0.5226 - val_acc: 0.8640\n",
      "Epoch 15/20\n",
      "15000/15000 [==============================] - 2s 100us/step - loss: 0.0185 - acc: 0.9967 - val_loss: 0.5389 - val_acc: 0.8680\n",
      "Epoch 16/20\n",
      "15000/15000 [==============================] - 2s 101us/step - loss: 0.0105 - acc: 0.9993 - val_loss: 0.5918 - val_acc: 0.8685\n",
      "Epoch 17/20\n",
      "15000/15000 [==============================] - 2s 100us/step - loss: 0.0126 - acc: 0.9975 - val_loss: 0.5988 - val_acc: 0.8653\n",
      "Epoch 18/20\n",
      "15000/15000 [==============================] - 2s 102us/step - loss: 0.0127 - acc: 0.9976 - val_loss: 0.6315 - val_acc: 0.8662\n",
      "Epoch 19/20\n",
      "15000/15000 [==============================] - 2s 100us/step - loss: 0.0047 - acc: 0.9998 - val_loss: 0.6597 - val_acc: 0.8640\n",
      "Epoch 20/20\n",
      "15000/15000 [==============================] - 1s 100us/step - loss: 0.0074 - acc: 0.9988 - val_loss: 0.6909 - val_acc: 0.8653\n"
     ]
    }
   ],
   "source": [
    "model.compile(optimizer='rmsprop', loss='binary_crossentropy', metrics=['acc'])\n",
    "\n",
    "history = model.fit(partial_x_train, partial_y_train, epochs=20, batch_size=512, validation_data=(x_val, y_val))"
   ]
  },
  {
   "cell_type": "code",
   "execution_count": 14,
   "metadata": {},
   "outputs": [],
   "source": [
    "history_dict=history.history"
   ]
  },
  {
   "cell_type": "code",
   "execution_count": 15,
   "metadata": {},
   "outputs": [
    {
     "data": {
      "text/plain": [
       "dict_keys(['val_loss', 'val_acc', 'loss', 'acc'])"
      ]
     },
     "execution_count": 15,
     "metadata": {},
     "output_type": "execute_result"
    }
   ],
   "source": [
    "history_dict.keys()"
   ]
  },
  {
   "cell_type": "code",
   "execution_count": 18,
   "metadata": {},
   "outputs": [
    {
     "data": {
      "image/png": "[encoded data removed]",
      "text/plain": [
       "<Figure size 432x288 with 1 Axes>"
      ]
     },
     "metadata": {
      "needs_background": "light"
     },
     "output_type": "display_data"
    }
   ],
   "source": [
    "import matplotlib.pyplot as plt\n",
    "\n",
    "history_dict = history.history\n",
    "loss = history_dict['loss']\n",
    "val_loss = history_dict['val_loss']\n",
    "\n",
    "epochs = range(1, len(loss) + 1)\n",
    "\n",
    "plt.plot(epochs, loss, 'bo', label='Training loss') #bo는 파란색 점을 의미\n",
    "plt.plot(epochs, val_loss, 'b', label='Validation loss') #b는 파란색 실선의미\n",
    "plt.title('Training and validation loss')\n",
    "plt.xlabel('Epochs')\n",
    "plt.ylabel('Loss')\n",
    "plt.legend()\n",
    "\n",
    "plt.show()"
   ]
  },
  {
   "cell_type": "code",
   "execution_count": 19,
   "metadata": {},
   "outputs": [
    {
     "data": {
      "image/png": "[encoded data removed]",
      "text/plain": [
       "<Figure size 432x288 with 1 Axes>"
      ]
     },
     "metadata": {
      "needs_background": "light"
     },
     "output_type": "display_data"
    }
   ],
   "source": [
    "plt.clf() #그래프 초기화\n",
    "acc = history_dict['acc']\n",
    "val_acc = history_dict['val_acc']\n",
    "\n",
    "plt.plot(epochs, acc, 'bo', label='Training acc')\n",
    "plt.plot(epochs, val_acc, 'b', label='Validation acc')\n",
    "plt.title('Training and validation accuarcy')\n",
    "plt.xlabel('Epochs')\n",
    "plt.ylabel('Accuracy')\n",
    "plt.legend()\n",
    "\n",
    "plt.show()"
   ]
  },
  {
   "cell_type": "code",
   "execution_count": 20,
   "metadata": {},
   "outputs": [
    {
     "name": "stdout",
     "output_type": "stream",
     "text": [
      "Epoch 1/5\n",
      "25000/25000 [==============================] - 2s 70us/step - loss: 0.4417 - accuracy: 0.8246\n",
      "Epoch 2/5\n",
      "25000/25000 [==============================] - 2s 62us/step - loss: 0.2565 - accuracy: 0.9098\n",
      "Epoch 3/5\n",
      "25000/25000 [==============================] - 2s 62us/step - loss: 0.1982 - accuracy: 0.9308\n",
      "Epoch 4/5\n",
      "25000/25000 [==============================] - 2s 62us/step - loss: 0.1668 - accuracy: 0.9413\n",
      "Epoch 5/5\n",
      "25000/25000 [==============================] - 2s 62us/step - loss: 0.1419 - accuracy: 0.9504\n",
      "25000/25000 [==============================] - 3s 108us/step\n"
     ]
    }
   ],
   "source": [
    "model = models.Sequential()\n",
    "model.add(layers.Dense(16, activation = 'relu', input_shape=(10000,)))\n",
    "model.add(layers.Dense(16, activation = 'relu'))\n",
    "model.add(layers.Dense(1, activation = 'sigmoid'))\n",
    "\n",
    "model.compile(optimizer='rmsprop', loss='binary_crossentropy', metrics=['accuracy'])\n",
    "\n",
    "model.fit(x_train, y_train, epochs=5, batch_size=512)\n",
    "results = model.evaluate(x_test, y_test)"
   ]
  },
  {
   "cell_type": "code",
   "execution_count": 21,
   "metadata": {},
   "outputs": [
    {
     "data": {
      "text/plain": [
       "[0.3148500673389435, 0.8794400095939636]"
      ]
     },
     "execution_count": 21,
     "metadata": {},
     "output_type": "execute_result"
    }
   ],
   "source": [
    "results"
   ]
  },
  {
   "cell_type": "code",
   "execution_count": 22,
   "metadata": {},
   "outputs": [
    {
     "data": {
      "text/plain": [
       "array([[0.16482143],\n",
       "       [0.999742  ],\n",
       "       [0.70369613],\n",
       "       ...,\n",
       "       [0.09417247],\n",
       "       [0.04267355],\n",
       "       [0.6138224 ]], dtype=float32)"
      ]
     },
     "execution_count": 22,
     "metadata": {},
     "output_type": "execute_result"
    }
   ],
   "source": [
    "model.predict(x_test)"
   ]
  },
  {
   "cell_type": "code",
   "execution_count": null,
   "metadata": {},
   "outputs": [],
   "source": []
  },
  {
   "cell_type": "markdown",
   "metadata": {},
   "source": [
    "## 필기"
   ]
  },
  {
   "cell_type": "markdown",
   "metadata": {},
   "source": [
    "배치사이즈 w값을 조정하는 횟수의 기준\n",
    "ex) 100개의 데이터, 배치사이즈 100 >> 가중치 변경 1번\n",
    "    100개의 데이터, 배치사이즈 1 >> 가중치 변경 100번\n",
    "    \n",
    "epoch는 학습 반복횟수\n",
    "같은 내용을 얼마만큼 반복해서 loss율을 줄여가는가\n",
    ">> 너무 많이 반복 시 오버피팅 일어날 확률 有\n",
    "\n",
    "epoch를 몇번 하는게 적당한지는 그래프를 그려서 파악"
   ]
  }
 ],
 "metadata": {
  "kernelspec": {
   "display_name": "Python 3",
   "language": "python",
   "name": "python3"
  },
  "language_info": {
   "codemirror_mode": {
    "name": "ipython",
    "version": 3
   },
   "file_extension": ".py",
   "mimetype": "text/x-python",
   "name": "python",
   "nbconvert_exporter": "python",
   "pygments_lexer": "ipython3",
   "version": "3.7.7"
  }
 },
 "nbformat": 4,
 "nbformat_minor": 4
}
