{
 "cells": [
  {
   "cell_type": "markdown",
   "metadata": {},
   "source": [
    "## Tensorflow를 활용한 실전 예제\n",
    "키와 몸무게 데이터를 입력하면 '저체중','정상','비만'이라고 판단하는 프로그램을 머신러닝으로 구해보자"
   ]
  },
  {
   "cell_type": "code",
   "execution_count": 2,
   "metadata": {},
   "outputs": [],
   "source": [
    "import pandas as pd\n",
    "import numpy as np\n",
    "import tensorflow as tf"
   ]
  },
  {
   "cell_type": "code",
   "execution_count": 3,
   "metadata": {
    "collapsed": true
   },
   "outputs": [
    {
     "data": {
      "text/html": [
       "<div>\n",
       "<style scoped>\n",
       "    .dataframe tbody tr th:only-of-type {\n",
       "        vertical-align: middle;\n",
       "    }\n",
       "\n",
       "    .dataframe tbody tr th {\n",
       "        vertical-align: top;\n",
       "    }\n",
       "\n",
       "    .dataframe thead th {\n",
       "        text-align: right;\n",
       "    }\n",
       "</style>\n",
       "<table border=\"1\" class=\"dataframe\">\n",
       "  <thead>\n",
       "    <tr style=\"text-align: right;\">\n",
       "      <th></th>\n",
       "      <th>height</th>\n",
       "      <th>weight</th>\n",
       "      <th>label</th>\n",
       "    </tr>\n",
       "  </thead>\n",
       "  <tbody>\n",
       "    <tr>\n",
       "      <th>0</th>\n",
       "      <td>125</td>\n",
       "      <td>50</td>\n",
       "      <td>fat</td>\n",
       "    </tr>\n",
       "    <tr>\n",
       "      <th>1</th>\n",
       "      <td>189</td>\n",
       "      <td>60</td>\n",
       "      <td>thin</td>\n",
       "    </tr>\n",
       "    <tr>\n",
       "      <th>2</th>\n",
       "      <td>181</td>\n",
       "      <td>53</td>\n",
       "      <td>thin</td>\n",
       "    </tr>\n",
       "    <tr>\n",
       "      <th>3</th>\n",
       "      <td>138</td>\n",
       "      <td>36</td>\n",
       "      <td>normal</td>\n",
       "    </tr>\n",
       "    <tr>\n",
       "      <th>4</th>\n",
       "      <td>149</td>\n",
       "      <td>68</td>\n",
       "      <td>fat</td>\n",
       "    </tr>\n",
       "    <tr>\n",
       "      <th>...</th>\n",
       "      <td>...</td>\n",
       "      <td>...</td>\n",
       "      <td>...</td>\n",
       "    </tr>\n",
       "    <tr>\n",
       "      <th>19995</th>\n",
       "      <td>189</td>\n",
       "      <td>60</td>\n",
       "      <td>thin</td>\n",
       "    </tr>\n",
       "    <tr>\n",
       "      <th>19996</th>\n",
       "      <td>178</td>\n",
       "      <td>45</td>\n",
       "      <td>thin</td>\n",
       "    </tr>\n",
       "    <tr>\n",
       "      <th>19997</th>\n",
       "      <td>162</td>\n",
       "      <td>36</td>\n",
       "      <td>thin</td>\n",
       "    </tr>\n",
       "    <tr>\n",
       "      <th>19998</th>\n",
       "      <td>174</td>\n",
       "      <td>74</td>\n",
       "      <td>normal</td>\n",
       "    </tr>\n",
       "    <tr>\n",
       "      <th>19999</th>\n",
       "      <td>152</td>\n",
       "      <td>55</td>\n",
       "      <td>normal</td>\n",
       "    </tr>\n",
       "  </tbody>\n",
       "</table>\n",
       "<p>20000 rows × 3 columns</p>\n",
       "</div>"
      ],
      "text/plain": [
       "       height  weight   label\n",
       "0         125      50     fat\n",
       "1         189      60    thin\n",
       "2         181      53    thin\n",
       "3         138      36  normal\n",
       "4         149      68     fat\n",
       "...       ...     ...     ...\n",
       "19995     189      60    thin\n",
       "19996     178      45    thin\n",
       "19997     162      36    thin\n",
       "19998     174      74  normal\n",
       "19999     152      55  normal\n",
       "\n",
       "[20000 rows x 3 columns]"
      ]
     },
     "execution_count": 3,
     "metadata": {},
     "output_type": "execute_result"
    }
   ],
   "source": [
    "#키, 몸무게, 레이블이 적힌 csv파일 읽어 들이기 ---(※1)\n",
    "csv = pd.read_csv(\"bmi.csv\")\n",
    "csv"
   ]
  },
  {
   "cell_type": "code",
   "execution_count": 4,
   "metadata": {},
   "outputs": [],
   "source": [
    "# 데이터 정규화 ---(※2)\n",
    "# 지역해에 빠지는 것을 방지하기 위해 정규화가 필요함\n",
    "csv['height'] = csv['height']/200\n",
    "csv['weight'] = csv['weight']/100"
   ]
  },
  {
   "cell_type": "code",
   "execution_count": 5,
   "metadata": {},
   "outputs": [],
   "source": [
    "#레이블을 배열로 변환하기 ---(※3)\n",
    "# thin=(1,0,0) / nomal=(0,1,0)/fat=(0,0,1)\n",
    "bclass = {'thin':[1,0,0],'normal':[0,1,0],'fat':[0,0,1]}\n",
    "csv[\"label_pat\"] = csv['label'].apply(lambda x : np.array(bclass[x]))"
   ]
  },
  {
   "cell_type": "code",
   "execution_count": 16,
   "metadata": {
    "collapsed": true
   },
   "outputs": [
    {
     "data": {
      "text/html": [
       "<div>\n",
       "<style scoped>\n",
       "    .dataframe tbody tr th:only-of-type {\n",
       "        vertical-align: middle;\n",
       "    }\n",
       "\n",
       "    .dataframe tbody tr th {\n",
       "        vertical-align: top;\n",
       "    }\n",
       "\n",
       "    .dataframe thead th {\n",
       "        text-align: right;\n",
       "    }\n",
       "</style>\n",
       "<table border=\"1\" class=\"dataframe\">\n",
       "  <thead>\n",
       "    <tr style=\"text-align: right;\">\n",
       "      <th></th>\n",
       "      <th>height</th>\n",
       "      <th>weight</th>\n",
       "    </tr>\n",
       "  </thead>\n",
       "  <tbody>\n",
       "    <tr>\n",
       "      <th>count</th>\n",
       "      <td>20000.000000</td>\n",
       "      <td>20000.000000</td>\n",
       "    </tr>\n",
       "    <tr>\n",
       "      <th>mean</th>\n",
       "      <td>0.800304</td>\n",
       "      <td>0.576132</td>\n",
       "    </tr>\n",
       "    <tr>\n",
       "      <th>std</th>\n",
       "      <td>0.116299</td>\n",
       "      <td>0.132203</td>\n",
       "    </tr>\n",
       "    <tr>\n",
       "      <th>min</th>\n",
       "      <td>0.600000</td>\n",
       "      <td>0.350000</td>\n",
       "    </tr>\n",
       "    <tr>\n",
       "      <th>25%</th>\n",
       "      <td>0.700000</td>\n",
       "      <td>0.460000</td>\n",
       "    </tr>\n",
       "    <tr>\n",
       "      <th>50%</th>\n",
       "      <td>0.800000</td>\n",
       "      <td>0.580000</td>\n",
       "    </tr>\n",
       "    <tr>\n",
       "      <th>75%</th>\n",
       "      <td>0.900000</td>\n",
       "      <td>0.690000</td>\n",
       "    </tr>\n",
       "    <tr>\n",
       "      <th>max</th>\n",
       "      <td>1.000000</td>\n",
       "      <td>0.800000</td>\n",
       "    </tr>\n",
       "  </tbody>\n",
       "</table>\n",
       "</div>"
      ],
      "text/plain": [
       "             height        weight\n",
       "count  20000.000000  20000.000000\n",
       "mean       0.800304      0.576132\n",
       "std        0.116299      0.132203\n",
       "min        0.600000      0.350000\n",
       "25%        0.700000      0.460000\n",
       "50%        0.800000      0.580000\n",
       "75%        0.900000      0.690000\n",
       "max        1.000000      0.800000"
      ]
     },
     "execution_count": 16,
     "metadata": {},
     "output_type": "execute_result"
    }
   ],
   "source": [
    "csv.describe()"
   ]
  },
  {
   "cell_type": "code",
   "execution_count": 15,
   "metadata": {
    "collapsed": true
   },
   "outputs": [
    {
     "name": "stdout",
     "output_type": "stream",
     "text": [
      "       height  weight   label  label_pat\n",
      "0       0.625    0.50     fat  [0, 0, 1]\n",
      "1       0.945    0.60    thin  [1, 0, 0]\n",
      "2       0.905    0.53    thin  [1, 0, 0]\n",
      "3       0.690    0.36  normal  [0, 1, 0]\n",
      "4       0.745    0.68     fat  [0, 0, 1]\n",
      "...       ...     ...     ...        ...\n",
      "19995   0.945    0.60    thin  [1, 0, 0]\n",
      "19996   0.890    0.45    thin  [1, 0, 0]\n",
      "19997   0.810    0.36    thin  [1, 0, 0]\n",
      "19998   0.870    0.74  normal  [0, 1, 0]\n",
      "19999   0.760    0.55  normal  [0, 1, 0]\n",
      "\n",
      "[20000 rows x 4 columns]\n"
     ]
    }
   ],
   "source": [
    "print(str(csv))"
   ]
  },
  {
   "cell_type": "code",
   "execution_count": 7,
   "metadata": {},
   "outputs": [],
   "source": [
    "#테스트를 위한 데이터 분류 ---(※4)\n",
    "test_csv = csv[15000:20000]\n",
    "test_pat = test_csv[['weight','height']]\n",
    "test_ans = list(test_csv['label_pat'])"
   ]
  },
  {
   "cell_type": "code",
   "execution_count": 8,
   "metadata": {},
   "outputs": [],
   "source": [
    "#데이터 플로우 그래프 구출하기 ---(※5)\n",
    "# 플레이스홀더 선언하기\n",
    "x = tf.placeholder(tf.float32,[None,2])  #키와 몸무게 데이터 넣기 2인이유 : 키하고 몸무게 두 개 들어가서\n",
    "y_ = tf.placeholder(tf.float32,[None,3]) #정답 레이블 넣기, 3인이유 : onehotencoding해서 3개여서..값의 종류도 3개임\n",
    "                                         #행이 None인 이유 : 안받겠다 아니고 '들어오는 값에 맞추겠다' 의미"
   ]
  },
  {
   "cell_type": "code",
   "execution_count": 9,
   "metadata": {},
   "outputs": [],
   "source": [
    "# 변수 선언하기 ---(※6)\n",
    "W = tf.Variable(tf.zeros([2,3])); #가중치\n",
    "b = tf.Variable(tf.zeros([3])); #바이어스"
   ]
  },
  {
   "cell_type": "code",
   "execution_count": 10,
   "metadata": {},
   "outputs": [],
   "source": [
    "# 소프트맥스 회귀 정의하기 ---(※7)\n",
    "y = tf.nn.softmax(tf.matmul(x,W)+b)"
   ]
  },
  {
   "cell_type": "code",
   "execution_count": 17,
   "metadata": {},
   "outputs": [],
   "source": [
    "# 모델 훈련하기 ---(※8)\n",
    "cross_entropy = -tf.reduce_sum(y_ * tf.log(y))\n",
    "optimizer = tf.train.GradientDescentOptimizer(0.01)\n",
    "train = optimizer.minimize(cross_entropy)"
   ]
  },
  {
   "cell_type": "code",
   "execution_count": 19,
   "metadata": {},
   "outputs": [],
   "source": [
    "# 정답률 구하기 ---(※9)\n",
    "predict = tf.equal(tf.argmax(y,1),tf.argmax(y_,1))\n",
    "accuracy = tf.reduce_mean(tf.cast(predict,tf.float32))"
   ]
  },
  {
   "cell_type": "code",
   "execution_count": 20,
   "metadata": {},
   "outputs": [],
   "source": [
    "# 세션 시작하기\n",
    "sess = tf.Session()\n",
    "sess.run(tf.global_variables_initializer()) #변수 초기화"
   ]
  },
  {
   "cell_type": "code",
   "execution_count": 44,
   "metadata": {},
   "outputs": [
    {
     "name": "stdout",
     "output_type": "stream",
     "text": [
      "step: 0 , cost : 9.03101, acc : 0.9804\n",
      "step: 1000 , cost : 9.53693, acc : 0.9812\n",
      "step: 2000 , cost : 10.99753, acc : 0.9804\n",
      "step: 3000 , cost : 8.10178, acc : 0.9782\n",
      "step: 4000 , cost : 11.06442, acc : 0.9794\n",
      "step: 5000 , cost : 10.57668, acc : 0.9804\n",
      "정답률:0.9804\n"
     ]
    }
   ],
   "source": [
    "# 훈련시작\n",
    "for step in range(5001):\n",
    "    idx = (step * 100) % 14000\n",
    "    \n",
    "    train_csv = csv[idx : idx+100]\n",
    "    x_pat = train_csv[['weight','height']]\n",
    "    y_ans = list((train_csv['label_pat']))\n",
    "    sess.run([train],feed_dict={x:x_pat, y_:y_ans})\n",
    "    \n",
    "    if step % 1000 ==0:\n",
    "        tmp_cost = sess.run(cross_entropy, feed_dict={x:x_pat, y_:y_ans})\n",
    "        tmp_acc = sess.run(accuracy, feed_dict={x:test_pat, y_:test_ans})\n",
    "        print(f'step: {step} , cost : {tmp_cost:.5f}, acc : {tmp_acc:.4f}')\n",
    "acc = sess.run(accuracy,feed_dict={x:test_pat, y_:test_ans})\n",
    "print(f'정답률:{acc:.4f}')\n",
    "sess.close()"
   ]
  },
  {
   "cell_type": "code",
   "execution_count": null,
   "metadata": {},
   "outputs": [],
   "source": []
  },
  {
   "cell_type": "code",
   "execution_count": null,
   "metadata": {},
   "outputs": [],
   "source": []
  }
 ],
 "metadata": {
  "kernelspec": {
   "display_name": "Python 3",
   "language": "python",
   "name": "python3"
  },
  "language_info": {
   "codemirror_mode": {
    "name": "ipython",
    "version": 3
   },
   "file_extension": ".py",
   "mimetype": "text/x-python",
   "name": "python",
   "nbconvert_exporter": "python",
   "pygments_lexer": "ipython3",
   "version": "3.6.10"
  }
 },
 "nbformat": 4,
 "nbformat_minor": 4
}
