{
 "cells": [
  {
   "cell_type": "markdown",
   "metadata": {},
   "source": [
    "### mnist 이미지데이터 (이미지 >> 매트릭스)"
   ]
  },
  {
   "cell_type": "markdown",
   "metadata": {},
   "source": [
    "**다운로드**"
   ]
  },
  {
   "cell_type": "code",
   "execution_count": 1,
   "metadata": {},
   "outputs": [
    {
     "name": "stdout",
     "output_type": "stream",
     "text": [
      "download: http://yann.lecun.com/exdb/mnist/train-images-idx3-ubyte.gz\n",
      "download: http://yann.lecun.com/exdb/mnist/train-labels-idx1-ubyte.gz\n",
      "download: http://yann.lecun.com/exdb/mnist/t10k-images-idx3-ubyte.gz\n",
      "download: http://yann.lecun.com/exdb/mnist/t10k-labels-idx1-ubyte.gz\n",
      "gzip: train-images-idx3-ubyte.gz\n",
      "gzip: train-labels-idx1-ubyte.gz\n",
      "gzip: t10k-images-idx3-ubyte.gz\n",
      "gzip: t10k-labels-idx1-ubyte.gz\n",
      "ok\n"
     ]
    }
   ],
   "source": [
    "import urllib.request as req\n",
    "import gzip, os, os.path\n",
    "\n",
    "savepath = \"./mnist\"\n",
    "baseurl = \"http://yann.lecun.com/exdb/mnist\"\n",
    "files = [\n",
    "    \"train-images-idx3-ubyte.gz\",\n",
    "    \"train-labels-idx1-ubyte.gz\",\n",
    "    \"t10k-images-idx3-ubyte.gz\",\n",
    "    \"t10k-labels-idx1-ubyte.gz\"]\n",
    "\n",
    "# 다운로드\n",
    "if not os.path.exists(savepath): os.mkdir(savepath)\n",
    "    \n",
    "for f in files:\n",
    "    url = baseurl + \"/\" + f\n",
    "    loc = savepath + \"/\" + f\n",
    "    print(\"download:\", url)\n",
    "    if not os.path.exists(loc):\n",
    "        req.urlretrieve(url, loc)\n",
    "        \n",
    "# GZip 압축 해제\n",
    "for f in files:\n",
    "    gz_file = savepath + \"/\" + f\n",
    "    raw_file = savepath + \"/\" + f.replace(\".gz\", \"\")\n",
    "    print(\"gzip:\", f)\n",
    "    with gzip.open(gz_file, \"rb\") as fp:\n",
    "        body = fp.read()\n",
    "        with open(raw_file, \"wb\") as w:\n",
    "            w.write(body)\n",
    "print(\"ok\")"
   ]
  },
  {
   "cell_type": "markdown",
   "metadata": {},
   "source": [
    "**csv파일로 저장**"
   ]
  },
  {
   "cell_type": "code",
   "execution_count": 2,
   "metadata": {},
   "outputs": [],
   "source": [
    "import struct\n",
    "def to_csv(name, maxdata):\n",
    "    # 레이블 파일과 이미지 파일 열기\n",
    "    lbl_f = open(\"./mnist/\"+name+\"-labels-idx1-ubyte\", \"rb\") #파일 읽음 (각각 빨대)\n",
    "    img_f = open(\"./mnist/\"+name+\"-images-idx3-ubyte\", \"rb\") #파일 읽음 (각각 빨대)\n",
    "    csv_f = open(\"./mnist/\"+name+\".csv\", \"w\", encoding=\"utf-8\") #쓰기\n",
    "    # 헤더 정보 읽기 --- (※1)\n",
    "    mag, lbl_count = struct.unpack(\">II\", lbl_f.read(8)) # \">||\" 그냥 기호, 옆으로 넘어가라는.. 문법임\n",
    "    mag, img_count = struct.unpack(\">II\", img_f.read(8)) # 8bit로 받음 mag,lbl_count(img_count) 각각 4bit씩\n",
    "    rows, cols = struct.unpack(\">II\", img_f.read(8))\n",
    "    pixels = rows * cols\n",
    "    # 이미지 데이터를 읽고 CSV로 저장하기 --- (※2)\n",
    "    res = []\n",
    "    for idx in range(lbl_count):       #lbl_count(1000개)만큼 읽어서\n",
    "        if idx > maxdata: break       #idx는 카운트변수\n",
    "        label = struct.unpack(\"B\", lbl_f.read(1))[0]  \n",
    "        bdata = img_f.read(pixels) #784개만큼 읽어오라,(실데이터 읽음)\n",
    "        sdata = list(map(lambda n: str(n), bdata))\n",
    "        csv_f.write(str(label)+\",\")\n",
    "        csv_f.write(\",\".join(sdata)+\"\\r\\n\")\n",
    "        # 잘 저장됐는지 이미지 파일로 저장해서 테스트하기 -- (※3)\n",
    "        if idx < 10:\n",
    "            s = \"P2 28 28 255\\n\"\n",
    "            s += \" \".join(sdata)\n",
    "            iname = \"./mnist/{0}-{1}-{2}.pgm\".format(name,idx,label)\n",
    "            with open(iname, \"w\", encoding=\"utf-8\") as f:\n",
    "                f.write(s)\n",
    "    csv_f.close()\n",
    "    lbl_f.close()\n",
    "    img_f.close()\n",
    "# 결과를 파일로 출력하기 --- (※4)\n",
    "to_csv(\"train\", 1000) #숫자는 늘리면 됨\n",
    "to_csv(\"t10k\", 500)"
   ]
  },
  {
   "cell_type": "markdown",
   "metadata": {},
   "source": [
    "**훈련코드**"
   ]
  },
  {
   "cell_type": "code",
   "execution_count": 13,
   "metadata": {},
   "outputs": [],
   "source": [
    "from sklearn import svm, metrics #분류모형은 무조건 metrics.. 평가지표.."
   ]
  },
  {
   "cell_type": "code",
   "execution_count": 11,
   "metadata": {},
   "outputs": [],
   "source": [
    "def load_csv(fname):\n",
    "    labels=[] #정답지\n",
    "    images=[] #속성들(features)\n",
    "    \n",
    "    with open(fname,\"r\") as f:\n",
    "        for line in f: # \\n기준으로 분리\n",
    "            cols = line.split(\",\") #빈줄 없애는 작업\n",
    "            if len(cols) <2: continue#빈줄 부분은 길이가 1이기 때문\n",
    "            labels.append(int(cols.pop(0))) #cols.pop(0) label값 뽑는건데, 하나씩 뽑으면 문자로 인식함\n",
    "                                            #따라서 int이용해 숫자로 바꿔줌\n",
    "            vals = list(map(lambda n: int(n)/256, cols)) #정규화하는 작업.\n",
    "                                                          #255대신 256을 쓴 이유는 정밀도 높이려고\n",
    "            images.append(vals)\n",
    "    return {\"labels\":labels, \"images\":images}\n",
    "\n",
    "\n",
    "train = load_csv(\"./mnist/train.csv\")\n",
    "test = load_csv(\"./mnist/t10k.csv\")"
   ]
  },
  {
   "cell_type": "code",
   "execution_count": 17,
   "metadata": {},
   "outputs": [
    {
     "name": "stderr",
     "output_type": "stream",
     "text": [
      "C:\\ProgramData\\Anaconda3\\lib\\site-packages\\sklearn\\svm\\base.py:193: FutureWarning: The default value of gamma will change from 'auto' to 'scale' in version 0.22 to account better for unscaled features. Set gamma explicitly to 'auto' or 'scale' to avoid this warning.\n",
      "  \"avoid this warning.\", FutureWarning)\n"
     ]
    },
    {
     "data": {
      "text/plain": [
       "SVC(C=1.0, cache_size=200, class_weight=None, coef0=0.0,\n",
       "    decision_function_shape='ovr', degree=3, gamma='auto_deprecated',\n",
       "    kernel='rbf', max_iter=-1, probability=False, random_state=None,\n",
       "    shrinking=True, tol=0.001, verbose=False)"
      ]
     },
     "execution_count": 17,
     "metadata": {},
     "output_type": "execute_result"
    }
   ],
   "source": [
    "clf = svm.SVC()\n",
    "clf.fit(train[\"images\"],train[\"labels\"])\n",
    "#C값이 커질수록 이상치도 포함시키는 경향을 띔"
   ]
  },
  {
   "cell_type": "code",
   "execution_count": 23,
   "metadata": {},
   "outputs": [
    {
     "name": "stdout",
     "output_type": "stream",
     "text": [
      "정답률 =  0.7884231536926147\n",
      "리포트 = \n",
      "              precision    recall  f1-score   support\n",
      "\n",
      "           0       0.87      0.93      0.90        42\n",
      "           1       0.81      1.00      0.89        67\n",
      "           2       0.84      0.69      0.76        55\n",
      "           3       0.87      0.57      0.68        46\n",
      "           4       0.76      0.75      0.75        55\n",
      "           5       0.63      0.80      0.71        50\n",
      "           6       0.97      0.67      0.79        43\n",
      "           7       0.74      0.86      0.79        49\n",
      "           8       0.91      0.72      0.81        40\n",
      "           9       0.71      0.81      0.76        54\n",
      "\n",
      "    accuracy                           0.79       501\n",
      "   macro avg       0.81      0.78      0.78       501\n",
      "weighted avg       0.80      0.79      0.79       501\n",
      "\n"
     ]
    }
   ],
   "source": [
    "pred = clf.predict(test[\"images\"])\n",
    "\n",
    "ac_score = metrics.accuracy_score(test[\"labels\"],pred)\n",
    "cl_report = metrics.classification_report(test[\"labels\"],pred)\n",
    "print(\"정답률 = \", ac_score)\n",
    "print(\"리포트 = \")\n",
    "print(cl_report)\n",
    "\n",
    "# 정확도가 낮을때 아래 수치를 활용함\n",
    "# ex) 아래 결과를 통해 3과 6이 5로 잘못 예측된다는 것을 유추할 수 있음\n",
    "#precision(예측치 기준), recall(실측치 기준)"
   ]
  }
 ],
 "metadata": {
  "kernelspec": {
   "display_name": "Python 3",
   "language": "python",
   "name": "python3"
  },
  "language_info": {
   "codemirror_mode": {
    "name": "ipython",
    "version": 3
   },
   "file_extension": ".py",
   "mimetype": "text/x-python",
   "name": "python",
   "nbconvert_exporter": "python",
   "pygments_lexer": "ipython3",
   "version": "3.7.4"
  }
 },
 "nbformat": 4,
 "nbformat_minor": 2
}
