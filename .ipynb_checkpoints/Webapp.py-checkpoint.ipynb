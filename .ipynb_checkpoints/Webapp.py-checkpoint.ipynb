{
 "cells": [
  {
   "cell_type": "code",
   "execution_count": null,
   "metadata": {},
   "outputs": [],
   "source": [
    "#!/usr/bin/env python3\n",
    "import cgi, os.path\n",
    "from sklearn.externals import joblib\n",
    "# 학습 데이터 읽어 들이기\n",
    "pklfile = os.path.dirname(__file__) + \"/freq.pkl\"\n",
    "clf = joblib.load(pklfile)\n",
    "# 텍스트 입력 양식 출력하기\n",
    "FormFile = 'test.html'\n",
    "def show_form(text, msg=\"\"):\n",
    "        print(\"Content-Type: text/html\")\n",
    "    print(open(FormFile).read())\n",
    "# 판정하기\n",
    "def detect_lang(text):\n",
    "    # 알파벳 출현 빈도 구하기\n",
    "    text = text.lower() \n",
    "    code_a, code_z = (ord(\"a\"), ord(\"z\"))\n",
    "    cnt = [0 for i in range(26)]\n",
    "    for ch in text:\n",
    "        n = ord(ch) - code_a\n",
    "        if 0 <= n < 26: cnt[n] += 1\n",
    "    total = sum(cnt)\n",
    "    if total == 0: return \"입력이 없습니다\"\n",
    "    freq = list(map(lambda n: n/total, cnt))\n",
    "    # 언어 예측하기\n",
    "    res = clf.predict([freq])\n",
    "    # 언어 코드를 한국어로 변환하기\n",
    "    lang_dic = {\"en\":\"영어\",\"fr\":\"프랑스어\",\n",
    "        \"id\":\"인도네시아어\", \"tl\":\"타갈로그어\"}\n",
    "    return lang_dic[res[0]]\n",
    "# 입력 양식의 값 읽어 들이기\n",
    "form = cgi.FieldStorage()\n",
    "text = form.getvalue(\"text\", default=\"\")\n",
    "msg = \"\"\n",
    "if text != \"\":\n",
    "    lang = detect_lang(text)\n",
    "    msg = \"판정 결과:\" + lang\n",
    "# 입력 양식 출력\n",
    "show_form(text, msg)"
   ]
  }
 ],
 "metadata": {
  "kernelspec": {
   "display_name": "Python 3",
   "language": "python",
   "name": "python3"
  },
  "language_info": {
   "codemirror_mode": {
    "name": "ipython",
    "version": 3
   },
   "file_extension": ".py",
   "mimetype": "text/x-python",
   "name": "python",
   "nbconvert_exporter": "python",
   "pygments_lexer": "ipython3",
   "version": "3.7.4"
  }
 },
 "nbformat": 4,
 "nbformat_minor": 2
}
