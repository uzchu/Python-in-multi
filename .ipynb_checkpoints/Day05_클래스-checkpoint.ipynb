{
 "cells": [
  {
   "cell_type": "code",
   "execution_count": 11,
   "metadata": {},
   "outputs": [
    {
     "name": "stdout",
     "output_type": "stream",
     "text": [
      "10 20\n"
     ]
    }
   ],
   "source": [
    "class Enemy:\n",
    "    def __init__(self):\n",
    "        self.x=10\n",
    "        self.y=20\n",
    "    \n",
    "   #def display(self,*name):  #x,y를 정의해주지 않으면 오류가 남\n",
    "   #    print(x,y)\n",
    "    \n",
    "     def display(self,*name):  #self붙여줘야함\n",
    "        print(self.x,self.y)\n",
    "                \n",
    "        \n",
    "e1= Enemy() #self e1\n",
    "e2= Enemy() #self e2\n",
    "e3= Enemy() #self e3\n",
    "\n",
    "e1.display()"
   ]
  },
  {
   "cell_type": "code",
   "execution_count": 124,
   "metadata": {},
   "outputs": [
    {
     "name": "stdout",
     "output_type": "stream",
     "text": [
      "100 200\n"
     ]
    }
   ],
   "source": [
    "class Enemy:\n",
    "    def __init__(self):\n",
    "        self.x=10\n",
    "        self.y=20\n",
    "    \n",
    "    def display(self,*name):  #x,y를 정의해주지 않으면 오류가 남. 지역변수를 지정해줘야 오류가 나지 않음\n",
    "        x=100\n",
    "        y=200\n",
    "        print(x,y)\n",
    "                \n",
    "        \n",
    "e1= Enemy() #self e1\n",
    "e2= Enemy() #self e2\n",
    "e3= Enemy() #self e3\n",
    "\n",
    "e1.display()"
   ]
  },
  {
   "cell_type": "code",
   "execution_count": 105,
   "metadata": {},
   "outputs": [],
   "source": [
    "class Student:\n",
    "    def __init__(self,h,name,k,e,m):\n",
    "        self.hak = h\n",
    "        self.name = name\n",
    "        self.kor = k\n",
    "        self.eng = e\n",
    "        self.math = m\n",
    "        self.total = 0\n",
    "        \n",
    "    def add(self):\n",
    "        self.total = self.kor+ self.eng + self.math\n",
    "        return self.total\n",
    "        \n",
    "    def display(self):\n",
    "        self.add()\n",
    "        print(self.name,\":\",self.total)\n",
    "    "
   ]
  },
  {
   "cell_type": "code",
   "execution_count": 107,
   "metadata": {},
   "outputs": [
    {
     "name": "stdout",
     "output_type": "stream",
     "text": [
      "홍길동 : 164\n"
     ]
    }
   ],
   "source": [
    "s1=Student(h=1,name=\"홍길동\",k=25,e=64,m=75)\n",
    "s1.display()"
   ]
  },
  {
   "cell_type": "code",
   "execution_count": 111,
   "metadata": {},
   "outputs": [
    {
     "name": "stdout",
     "output_type": "stream",
     "text": [
      "홍길동 총점 : 14\n"
     ]
    }
   ],
   "source": [
    "class FStudent(Student):\n",
    "    \n",
    "    def display(self):\n",
    "        self.add()\n",
    "        print(f\"{self.name} 총점 :\",self.total)\n",
    "\n",
    "fs = FStudent(h=1,name=\"홍길동\",k=4,e=5,m=5)\n",
    "fs.display()"
   ]
  },
  {
   "cell_type": "code",
   "execution_count": 93,
   "metadata": {},
   "outputs": [
    {
     "name": "stdout",
     "output_type": "stream",
     "text": [
      "7\n"
     ]
    }
   ],
   "source": [
    "import mod1\n",
    "print(mod1.add(3,4))"
   ]
  },
  {
   "cell_type": "code",
   "execution_count": 120,
   "metadata": {},
   "outputs": [
    {
     "name": "stdout",
     "output_type": "stream",
     "text": [
      "7\n"
     ]
    }
   ],
   "source": [
    "from mod1 import add\n",
    "print(add(3,4))"
   ]
  },
  {
   "cell_type": "code",
   "execution_count": null,
   "metadata": {},
   "outputs": [],
   "source": []
  }
 ],
 "metadata": {
  "kernelspec": {
   "display_name": "Python 3",
   "language": "python",
   "name": "python3"
  },
  "language_info": {
   "codemirror_mode": {
    "name": "ipython",
    "version": 3
   },
   "file_extension": ".py",
   "mimetype": "text/x-python",
   "name": "python",
   "nbconvert_exporter": "python",
   "pygments_lexer": "ipython3",
   "version": "3.7.4"
  }
 },
 "nbformat": 4,
 "nbformat_minor": 2
}
