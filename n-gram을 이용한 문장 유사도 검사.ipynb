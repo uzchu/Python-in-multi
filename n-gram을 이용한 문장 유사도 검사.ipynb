{
 "cells": [
  {
   "cell_type": "markdown",
   "metadata": {},
   "source": [
    "### [텍스트분류] 문장의 유사도 N-Gram으로 분석하기"
   ]
  },
  {
   "cell_type": "code",
   "execution_count": 1,
   "metadata": {},
   "outputs": [],
   "source": [
    "\n",
    "def ngram(s, num):\n",
    "    res = []\n",
    "    slen = len(s) - num + 1 #마지막은 할 필요가 없기 때문에 (ex) 사랑해 >>'사랑','랑해' 를 구하면, '해' 이후는 할 필요가 없음 )\n",
    "    for i in range(slen):\n",
    "        ss = s[i:i+num]\n",
    "        res.append(ss)\n",
    "    return res\n",
    "\n",
    "def diff_ngram(sa, sb, num):\n",
    "    a = ngram(sa, num)  #a =['오늘','늘 ',' 강','강남',....]\n",
    "    b = ngram(sb, num)  #b =['강남','남에 ','에서',' 먹',....]\n",
    "    r = []\n",
    "    cnt = 0\n",
    "    for i in a:\n",
    "        for j in b:\n",
    "            if i == j:\n",
    "                cnt += 1\n",
    "                r.append(i)\n",
    "    return cnt / len(a), r  #전체 길이 대비 몇개 맞았는 가\n"
   ]
  },
  {
   "cell_type": "code",
   "execution_count": null,
   "metadata": {},
   "outputs": [],
   "source": [
    "def ngram(s,num):\n",
    "    res = []\n",
    "    slen = len(s) - num + 1\n",
    "    for i in range(slen):\n",
    "        ss = s[i:i+num]\n",
    "        res.append(ss)\n",
    "    return res\n",
    "\n",
    "def diff_ngram(sa,sb,num):\n",
    "    a = ngram(sa, num)\n",
    "    b = ngram(sb, num)\n",
    "    r = []\n",
    "    cnt = 0\n",
    "    for i in a :\n",
    "        for j in b:\n",
    "            if i == j:\n",
    "                cnt += 1\n",
    "                r.append(i)\n",
    "    return cnt/len(a), r\n"
   ]
  },
  {
   "cell_type": "code",
   "execution_count": 2,
   "metadata": {},
   "outputs": [
    {
     "name": "stdout",
     "output_type": "stream",
     "text": [
      "2-gram: 0.7619047619047619 ['오늘', '강남', '남에', '에서', '서 ', ' 맛', '맛있', '는 ', ' 스', '스파', '파게', '게티', ' 먹', '먹었', '었다', '다.']\n",
      "3-gram: 0.45 ['강남에', '남에서', '에서 ', ' 맛있', ' 스파', '스파게', '파게티', ' 먹었', '었다.']\n"
     ]
    }
   ],
   "source": [
    "a = \"오늘 강남에서 맛있는 스파게티를 먹었다.\"\n",
    "b = \"강남에서 먹었던 오늘의 스파게티는 맛있었다.\"\n",
    "# 2-gram\n",
    "r2, word2 = diff_ngram(a, b, 2) #튜플로 반납\n",
    "print(\"2-gram:\", r2, word2)\n",
    "\n",
    "# 3-gram\n",
    "r3, word3  = diff_ngram(a, b, 3)\n",
    "print(\"3-gram:\", r3, word3)\n",
    "\n",
    "#한글은 2-gram이 3-gram보다 성능이 좋음 (거의 반토막;;)"
   ]
  },
  {
   "cell_type": "markdown",
   "metadata": {},
   "source": [
    "코드짤 땐 중간중간 모듈단위 테스트 필수 (모듈의 최소단위는 함수아니면 클래스)  \n",
    "테스트 없이 한번에 짜면 어디서 오류가 났는지 알기 어렵기 때문."
   ]
  },
  {
   "cell_type": "code",
   "execution_count": 3,
   "metadata": {},
   "outputs": [
    {
     "data": {
      "text/plain": [
       "['오늘',\n",
       " '늘 ',\n",
       " ' 강',\n",
       " '강남',\n",
       " '남에',\n",
       " '에서',\n",
       " '서 ',\n",
       " ' 맛',\n",
       " '맛있',\n",
       " '있는',\n",
       " '는 ',\n",
       " ' 스',\n",
       " '스파',\n",
       " '파게',\n",
       " '게티',\n",
       " '티를',\n",
       " '를 ',\n",
       " ' 먹',\n",
       " '먹었',\n",
       " '었다',\n",
       " '다.']"
      ]
     },
     "execution_count": 3,
     "metadata": {},
     "output_type": "execute_result"
    }
   ],
   "source": [
    "def ngram(s, num):\n",
    "    res = []\n",
    "    slen = len(s) - num + 1 #마지막은 할 필요가 없기 때문에 (ex) 사랑해 >>'사랑','랑해' 를 구하면, '해' 이후는 할 필요가 없음 )\n",
    "    for i in range(slen):\n",
    "        ss = s[i:i+num]\n",
    "        res.append(ss)\n",
    "    return res\n",
    "\n",
    "ngram(a,2)"
   ]
  },
  {
   "cell_type": "code",
   "execution_count": null,
   "metadata": {},
   "outputs": [],
   "source": []
  },
  {
   "cell_type": "code",
   "execution_count": null,
   "metadata": {},
   "outputs": [],
   "source": []
  },
  {
   "cell_type": "code",
   "execution_count": null,
   "metadata": {},
   "outputs": [],
   "source": []
  },
  {
   "cell_type": "code",
   "execution_count": null,
   "metadata": {},
   "outputs": [],
   "source": []
  },
  {
   "cell_type": "code",
   "execution_count": null,
   "metadata": {},
   "outputs": [],
   "source": []
  },
  {
   "cell_type": "code",
   "execution_count": null,
   "metadata": {},
   "outputs": [],
   "source": []
  },
  {
   "cell_type": "code",
   "execution_count": null,
   "metadata": {},
   "outputs": [],
   "source": []
  },
  {
   "cell_type": "code",
   "execution_count": null,
   "metadata": {},
   "outputs": [],
   "source": []
  },
  {
   "cell_type": "code",
   "execution_count": null,
   "metadata": {},
   "outputs": [],
   "source": []
  },
  {
   "cell_type": "code",
   "execution_count": null,
   "metadata": {},
   "outputs": [],
   "source": []
  }
 ],
 "metadata": {
  "kernelspec": {
   "display_name": "Python 3",
   "language": "python",
   "name": "python3"
  },
  "language_info": {
   "codemirror_mode": {
    "name": "ipython",
    "version": 3
   },
   "file_extension": ".py",
   "mimetype": "text/x-python",
   "name": "python",
   "nbconvert_exporter": "python",
   "pygments_lexer": "ipython3",
   "version": "3.7.4"
  }
 },
 "nbformat": 4,
 "nbformat_minor": 2
}
